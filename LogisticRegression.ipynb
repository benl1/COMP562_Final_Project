{
 "cells": [
  {
   "cell_type": "markdown",
   "metadata": {},
   "source": [
    "# Data Preparation and Sampling\n",
    "This notebook belongs to [this](https://medium.com/@timoboehm/movie-posters-81af5707e69a) blog post. Go there for details and background."
   ]
  },
  {
   "cell_type": "code",
   "execution_count": 3,
   "metadata": {},
   "outputs": [],
   "source": [
    "import re\n",
    "import numpy as np\n",
    "import pandas as pd"
   ]
  },
  {
   "cell_type": "code",
   "execution_count": 4,
   "metadata": {},
   "outputs": [],
   "source": [
    "def read_and_clean_data(path):\n",
    "    df = pd.read_csv(path, encoding=\"ISO-8859-1\", usecols=[\"imdbId\", \"Title\",\"Score\",\"Genre\", \"Poster\"])\n",
    "    df.set_index([\"imdbId\"], inplace=True)\n",
    "    print(f\"Shape of the original dataset: {df.shape}\")\n",
    "    df.dropna(inplace=True)\n",
    "    print(f\"Shape after dropping rows with missing values: {df.shape}\")\n",
    "    df.drop_duplicates(subset=\"Poster\", keep=False, inplace=True)\n",
    "    print(f\"Shape after dropping rows with potentially misleading poster link: {df.shape}\\n\")\n",
    "    return df"
   ]
  },
  {
   "cell_type": "code",
   "execution_count": 5,
   "metadata": {},
   "outputs": [],
   "source": [
    "def add_year_variable(df):\n",
    "    re_year = re.compile(\"\\((\\d{4})\\)\")\n",
    "    df[\"year\"] = df.Title.map(lambda x: int(re_year.findall(x)[0]) if re_year.findall(x) else None)\n",
    "    print(f\"There are movies between {int(np.min(df.year))} and {int(np.max(df.year))} available in the dataset.\\n\")\n",
    "    print(f\"Shape after adding years: {df.shape}\\n\")\n",
    "    return df"
   ]
  },
  {
   "cell_type": "code",
   "execution_count": 6,
   "metadata": {},
   "outputs": [],
   "source": [
    "def create_boolean_genres(df):\n",
    "    df[\"Genre\"] = df.Genre.map(lambda x: x.split(\"|\"))\n",
    "    all_genres = set([item for l in df.Genre for item in l])\n",
    "    print(f\"There are {len(all_genres)} genres in the dataset: {all_genres}\\n\")\n",
    "    for genre in all_genres:\n",
    "        new_var = \"is_\" + re.sub(r'\\W+', '', genre.lower())\n",
    "        df[new_var] = df.Genre.map(lambda x: genre in x).astype(int)\n",
    "    return df"
   ]
  },
  {
   "cell_type": "code",
   "execution_count": 7,
   "metadata": {},
   "outputs": [],
   "source": [
    "def extract_genre_data(df, genre=\"Action\"):\n",
    "    filter_var = \"is_\" + re.sub(r'\\W+', '', genre.lower())\n",
    "    df_genre = df.copy().loc[df[filter_var]]\n",
    "    print(f\"{genre} movies in the dataset: {df_genre.shape[0]}\\n\")\n",
    "    return df_genre"
   ]
  },
  {
   "cell_type": "code",
   "execution_count": 8,
   "metadata": {},
   "outputs": [],
   "source": [
    "def select_years(df, min_year=1950, max_year=2000, add_decades=True):\n",
    "    df_range = df.copy().loc[(df.year >= min_year) & (df.year < max_year)]\n",
    "    print(f\"Movies left between {min_year} and {max_year}: {df_range.shape[0]}\")\n",
    "    if add_decades:\n",
    "        df_range[\"decade\"] = df_range.year.apply(lambda x: str(int(x))[2] +\"0s\")\n",
    "        print(f\"Movies per decade in the dataset:\\n{df_range.decade.value_counts()}\\n\")\n",
    "    return df_range"
   ]
  },
  {
   "cell_type": "code",
   "execution_count": 9,
   "metadata": {},
   "outputs": [],
   "source": [
    "def sample_same_number_per_decade(df, use_test_sample=False):\n",
    "    min_number = 40 if use_test_sample else np.min(df.decade.value_counts())\n",
    "    df_sample = df.groupby(\"decade\").apply(lambda x: x.sample(min_number))\n",
    "    print(f\"Sample includes {min_number} movies per decade\")\n",
    "    return df_sample\n",
    "def f(row):\n",
    "    if row['Score'] >=0 and row['Score'] <= 4:\n",
    "        val = 0\n",
    "    elif row['Score'] >=5 and row['Score'] <=7:\n",
    "        val = 1\n",
    "    else:\n",
    "        val = 2\n",
    "    return val"
   ]
  },
  {
   "cell_type": "code",
   "execution_count": 10,
   "metadata": {},
   "outputs": [
    {
     "name": "stdout",
     "output_type": "stream",
     "text": [
      "Shape of the original dataset: (40108, 4)\n",
      "Shape after dropping rows with missing values: (39246, 4)\n",
      "Shape after dropping rows with potentially misleading poster link: (37833, 4)\n",
      "\n",
      "There are movies between 1874 and 2017 available in the dataset.\n",
      "\n",
      "Shape after adding years: (37833, 5)\n",
      "\n",
      "There are 28 genres in the dataset: {'Mystery', 'Drama', 'Thriller', 'Animation', 'Game-Show', 'Talk-Show', 'Musical', 'Adult', 'Documentary', 'Horror', 'Reality-TV', 'News', 'Crime', 'History', 'Western', 'Adventure', 'Music', 'Romance', 'Biography', 'Film-Noir', 'Comedy', 'Sport', 'Sci-Fi', 'Fantasy', 'Action', 'War', 'Short', 'Family'}\n",
      "\n"
     ]
    }
   ],
   "source": [
    "movie_data = read_and_clean_data(path=\"./data/MovieGenre.csv\")\n",
    "movie_data = add_year_variable(movie_data)\n",
    "movie_data = create_boolean_genres(movie_data)\n",
    "\n",
    "genre_movies = movie_data.loc[movie_data['is_horror'] == 1]\n",
    "non_genre_movies = movie_data.loc[movie_data['is_horror'] == 0]\n",
    "sampled_movies = non_genre_movies.sample(n = 3800)\n",
    "data_set = pd.concat([genre_movies,sampled_movies])\n",
    "\n",
    "afterNF = (movie_data.year >= 1995).astype(int)\n",
    "\n",
    "movie_data[\"afterNF\"] = afterNF\n",
    "\n",
    "movie_data['ratingClass']= movie_data.apply(f,axis=1)        "
   ]
  },
  {
   "cell_type": "markdown",
   "metadata": {},
   "source": [
    "# Download Posters in correct File Structure"
   ]
  },
  {
   "cell_type": "code",
   "execution_count": 41,
   "metadata": {},
   "outputs": [],
   "source": [
    "import os\n",
    "from sklearn.model_selection import train_test_split\n",
    "from sklearn.linear_model import LogisticRegression\n",
    "from sklearn import metrics\n",
    "from imblearn.over_sampling import SMOTE\n",
    "import matplotlib.pyplot as plt\n",
    "import urllib.request\n",
    "from urllib.error import HTTPError\n",
    "\n",
    "import PIL"
   ]
  },
  {
   "cell_type": "code",
   "execution_count": 42,
   "metadata": {},
   "outputs": [],
   "source": [
    "def create_train_and_test_dfs(df, prop_test=.2):\n",
    "    df.dropna(inplace=True)\n",
    "    train, test = train_test_split(df, test_size=prop_test, stratify=df.afterNF)\n",
    "    print(f\"Number of movies in training data: {train.shape[0]}\")\n",
    "    print(f\"Number of movies in testing data:  {test.shape[0]}\\n\")\n",
    "    return {\"train\": train, \"test\": test}"
   ]
  },
  {
   "cell_type": "code",
   "execution_count": 43,
   "metadata": {},
   "outputs": [],
   "source": [
    "def create_folder_structure(image_folder=\"movie_posters\", splits=[\"train\", \"test\"], classes=None):\n",
    "    for s in splits:\n",
    "        for c in classes:\n",
    "            folder_name = \"\\\\\".join([image_folder, s, c])\n",
    "            try:\n",
    "                os.makedirs(folder_name)\n",
    "            except FileExistsError:\n",
    "                print(f\"{folder_name} already exists.\")\n",
    "        print(\"\\n\")"
   ]
  },
  {
   "cell_type": "code",
   "execution_count": 44,
   "metadata": {},
   "outputs": [],
   "source": [
    "def download_posters(dfs, image_folder=\"movie_posters\"):\n",
    "    for k, df in dfs.items():\n",
    "        print(f\"Starting with downloading files for {k}...\\n\")\n",
    "        already_downloaded = 0\n",
    "        http_errors = []\n",
    "        for index, movie in df.iterrows():\n",
    "            movie_id = str(index[1])\n",
    "            movie_decade = index[0]\n",
    "            file_name = movie_id + \".jpg\"\n",
    "            file_path = \"\\\\\".join([image_folder, k, movie_decade, file_name])\n",
    "            if os.path.isfile(file_path):\n",
    "                already_downloaded += 1\n",
    "            else:\n",
    "                try:\n",
    "                    urllib.request.urlretrieve(movie.Poster, file_path)       \n",
    "                except HTTPError:\n",
    "                    http_errors.append(movie_id)\n",
    "        print(f\"{len(http_errors)} posters had an HTTPError.\")\n",
    "        print(f\"{already_downloaded} posters were downloaded before.\\n\")\n",
    "        count = 0\n",
    "        for root, dirs, files in os.walk(\"\\\\\".join([image_folder, k])):\n",
    "            if len(dirs) == 0:\n",
    "                count += len(files)\n",
    "                print(f\"Number of pictures in {root}:\\t{len(files)}\")\n",
    "        print(f\"\\nTotal number of pictures available for {k}: {count}\\n\")"
   ]
  },
  {
   "cell_type": "code",
   "execution_count": 45,
   "metadata": {},
   "outputs": [],
   "source": [
    "def delete_black_and_white_posters(image_folder=None):\n",
    "    print(f\"\\nChecking for black and white pictures in {image_folder}...\")\n",
    "    count = 0\n",
    "    for root, dirs, files in os.walk(image_folder):\n",
    "        if len(files) > 0:\n",
    "            for f in files:\n",
    "                file_path = \"\\\\\".join([root, f])\n",
    "                if np.asarray(PIL.Image.open(file_path)).shape != (268, 182, 3):\n",
    "                    os.remove(file_path)\n",
    "                    count += 1\n",
    "    print(f\"Files without RGB and therefore deleted: {count}\")"
   ]
  },
  {
   "cell_type": "code",
   "execution_count": 46,
   "metadata": {},
   "outputs": [
    {
     "name": "stdout",
     "output_type": "stream",
     "text": [
      "Number of movies in training data: 29892\n",
      "Number of movies in testing data:  7474\n",
      "\n"
     ]
    }
   ],
   "source": [
    "image_folder = \"movie_posters\"\n",
    "dfs = create_train_and_test_dfs(movie_data)\n",
    "train = dfs[\"train\"]\n",
    "test = dfs[\"test\"]"
   ]
  },
  {
   "cell_type": "code",
   "execution_count": 47,
   "metadata": {},
   "outputs": [],
   "source": [
    "\n",
    "feature_columns = [\"Score\",\"year\"]\n",
    "label_columns = [\"is_horror\"]\n",
    "xtrain = train[feature_columns]\n",
    "xtest = test[feature_columns]\n",
    "ytrain =train[label_columns]\n",
    "ytest= test[label_columns]\n"
   ]
  },
  {
   "cell_type": "code",
   "execution_count": 48,
   "metadata": {},
   "outputs": [],
   "source": [
    "logreg = LogisticRegression(solver='lbfgs', multi_class='multinomial',class_weight='balanced')\n",
    "logreg.fit(xtrain,ytrain.values.ravel())\n",
    "ypred = logreg.predict(xtest)"
   ]
  },
  {
   "cell_type": "code",
   "execution_count": 49,
   "metadata": {},
   "outputs": [
    {
     "data": {
      "text/plain": [
       "array([[4909, 1764],\n",
       "       [ 258,  543]], dtype=int64)"
      ]
     },
     "execution_count": 49,
     "metadata": {},
     "output_type": "execute_result"
    }
   ],
   "source": [
    "cnf = metrics.confusion_matrix(ytest,ypred)\n",
    "cnf"
   ]
  },
  {
   "cell_type": "code",
   "execution_count": 50,
   "metadata": {},
   "outputs": [
    {
     "name": "stdout",
     "output_type": "stream",
     "text": [
      "Accuracy: 0.7294621354027294\n"
     ]
    }
   ],
   "source": [
    "print(\"Accuracy:\",metrics.accuracy_score(ytest, ypred))"
   ]
  },
  {
   "cell_type": "code",
   "execution_count": 52,
   "metadata": {},
   "outputs": [
    {
     "data": {
      "image/png": "[encoded data removed]",
      "text/plain": [
       "<Figure size 432x288 with 1 Axes>"
      ]
     },
     "metadata": {
      "needs_background": "light"
     },
     "output_type": "display_data"
    }
   ],
   "source": [
    "y_pred_proba = logreg.predict_proba(xtest)[::,1]\n",
    "fpr, tpr, _ = metrics.roc_curve(ytest,  y_pred_proba)\n",
    "auc = metrics.roc_auc_score(ytest, y_pred_proba)\n",
    "plt.plot(fpr,tpr,label=\"Area Under Curve=\"+str(auc))\n",
    "plt.legend(loc=4)\n",
    "plt.show()"
   ]
  },
  {
   "cell_type": "code",
   "execution_count": null,
   "metadata": {},
   "outputs": [],
   "source": []
  },
  {
   "cell_type": "code",
   "execution_count": null,
   "metadata": {},
   "outputs": [],
   "source": []
  }
 ],
 "metadata": {
  "kernelspec": {
   "display_name": "Python 3",
   "language": "python",
   "name": "python3"
  },
  "language_info": {
   "codemirror_mode": {
    "name": "ipython",
    "version": 3
   },
   "file_extension": ".py",
   "mimetype": "text/x-python",
   "name": "python",
   "nbconvert_exporter": "python",
   "pygments_lexer": "ipython3",
   "version": "3.7.1"
  }
 },
 "nbformat": 4,
 "nbformat_minor": 1
}
